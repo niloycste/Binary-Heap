{
 "cells": [
  {
   "cell_type": "code",
   "execution_count": 1,
   "metadata": {},
   "outputs": [],
   "source": [
    "#binary heap module\n",
    "import heapq\n"
   ]
  },
  {
   "cell_type": "markdown",
   "metadata": {},
   "source": [
    "#insert node in the heap\n"
   ]
  },
  {
   "cell_type": "code",
   "execution_count": 5,
   "metadata": {},
   "outputs": [
    {
     "name": "stdout",
     "output_type": "stream",
     "text": [
      "[1, 5, 3, 23, 6, 4, 89]\n"
     ]
    }
   ],
   "source": [
    "list=[]\n",
    "heapq.heappush(list,23)\n",
    "heapq.heappush(list,3)\n",
    "heapq.heappush(list,1)\n",
    "heapq.heappush(list,6)\n",
    "heapq.heappush(list,5)\n",
    "heapq.heappush(list,4)\n",
    "heapq.heappush(list,89)\n",
    "print(list)\n"
   ]
  },
  {
   "cell_type": "markdown",
   "metadata": {},
   "source": [
    "#delete node from the heap"
   ]
  },
  {
   "cell_type": "code",
   "execution_count": 10,
   "metadata": {},
   "outputs": [
    {
     "name": "stdout",
     "output_type": "stream",
     "text": [
      "[5, 6, 89, 23]\n"
     ]
    }
   ],
   "source": [
    "#it will find out the smallest value from the heap and delete it\n",
    "heapq.heappop(list)\n",
    "print(list)\n"
   ]
  },
  {
   "cell_type": "markdown",
   "metadata": {},
   "source": [
    "#heapify"
   ]
  },
  {
   "cell_type": "code",
   "execution_count": 15,
   "metadata": {},
   "outputs": [
    {
     "name": "stdout",
     "output_type": "stream",
     "text": [
      "[1, 1, 3, 7, 4, 23, 56, 98, 23, 45, 5]\n"
     ]
    }
   ],
   "source": [
    "#convert the list into the binary heap\n",
    "list2=[1,5,3,7,45,23,56,98,23,1,4]\n",
    "heapq.heapify(list2)\n",
    "print(list2)"
   ]
  },
  {
   "cell_type": "code",
   "execution_count": 19,
   "metadata": {},
   "outputs": [
    {
     "name": "stdout",
     "output_type": "stream",
     "text": [
      "[3, 4, 23, 7, 5, 346, 56, 98, 23, 45, 346]\n"
     ]
    }
   ],
   "source": [
    "#this function perform both push and pop together.first it will remove the smallest value then push\n",
    "heapq.heappushpop(list2,346)\n",
    "print(list2)\n",
    "#it will first remove 1 and add 346"
   ]
  },
  {
   "cell_type": "markdown",
   "metadata": {},
   "source": [
    "#smallest and largest value "
   ]
  },
  {
   "cell_type": "code",
   "execution_count": 21,
   "metadata": {},
   "outputs": [
    {
     "data": {
      "text/plain": [
       "[3, 4]"
      ]
     },
     "execution_count": 21,
     "metadata": {},
     "output_type": "execute_result"
    }
   ],
   "source": [
    "heapq.nsmallest(2,list2)"
   ]
  },
  {
   "cell_type": "code",
   "execution_count": 22,
   "metadata": {},
   "outputs": [
    {
     "data": {
      "text/plain": [
       "[346, 346, 98, 56]"
      ]
     },
     "execution_count": 22,
     "metadata": {},
     "output_type": "execute_result"
    }
   ],
   "source": [
    "heapq.nlargest(4,list2)"
   ]
  },
  {
   "cell_type": "code",
   "execution_count": null,
   "metadata": {},
   "outputs": [],
   "source": []
  }
 ],
 "metadata": {
  "kernelspec": {
   "display_name": "Python 3",
   "language": "python",
   "name": "python3"
  },
  "language_info": {
   "codemirror_mode": {
    "name": "ipython",
    "version": 3
   },
   "file_extension": ".py",
   "mimetype": "text/x-python",
   "name": "python",
   "nbconvert_exporter": "python",
   "pygments_lexer": "ipython3",
   "version": "3.7.4"
  }
 },
 "nbformat": 4,
 "nbformat_minor": 2
}
